{
 "cells": [
  {
   "cell_type": "markdown",
   "metadata": {},
   "source": [
    "# Loops - While loop & For Loop"
   ]
  },
  {
   "cell_type": "code",
   "execution_count": 2,
   "metadata": {},
   "outputs": [
    {
     "name": "stdout",
     "output_type": "stream",
     "text": [
      "1\n",
      "2\n",
      "3\n",
      "4\n",
      "5\n",
      "6\n",
      "7\n",
      "8\n",
      "9\n",
      "10\n"
     ]
    }
   ],
   "source": [
    "#print 1 to 10 using while loop\n",
    "i=1\n",
    "while(i<=10):\n",
    "    print(i)\n",
    "    i=i+1"
   ]
  },
  {
   "cell_type": "code",
   "execution_count": 5,
   "metadata": {},
   "outputs": [
    {
     "name": "stdout",
     "output_type": "stream",
     "text": [
      "1\n",
      "2\n",
      "3\n",
      "4\n",
      "5\n",
      "6\n",
      "7\n",
      "8\n",
      "9\n",
      "10\n"
     ]
    }
   ],
   "source": [
    "#print 1 to 10 using for loop\n",
    "for i in range(1,11):\n",
    "    print(i)"
   ]
  },
  {
   "cell_type": "code",
   "execution_count": 7,
   "metadata": {},
   "outputs": [
    {
     "name": "stdout",
     "output_type": "stream",
     "text": [
      "1 2 3 4 5 6 7 8 9 10 "
     ]
    }
   ],
   "source": [
    "#Similarly print 1 to 10 using while loop using End Attribute\n",
    "i=1\n",
    "while(i<=10):\n",
    "    print(i,end=\" \")\n",
    "    i=i+1"
   ]
  },
  {
   "cell_type": "code",
   "execution_count": 8,
   "metadata": {},
   "outputs": [
    {
     "name": "stdout",
     "output_type": "stream",
     "text": [
      "1 2 3 4 5 6 7 8 9 10 "
     ]
    }
   ],
   "source": [
    "#Similarly print 1 to 10 using for loop using End Attribute\n",
    "for i in range(1,11):\n",
    "    print(i,end=\" \")"
   ]
  },
  {
   "cell_type": "markdown",
   "metadata": {},
   "source": [
    "# Built-In Functions"
   ]
  },
  {
   "cell_type": "code",
   "execution_count": 18,
   "metadata": {},
   "outputs": [
    {
     "name": "stdout",
     "output_type": "stream",
     "text": [
      "Hello Viewers\n",
      "10\n",
      "10.0\n",
      "<class 'int'>\n",
      "<class 'float'>\n",
      "<class 'str'>\n",
      "4\n"
     ]
    }
   ],
   "source": [
    "print(str(\"Hello Viewers\"))\n",
    "print(int(10))\n",
    "print(float(10))\n",
    "print(type(20))\n",
    "print(type(20.0))\n",
    "print(type(\"Hello Viewers\"))\n",
    "print(pow(2,2))"
   ]
  },
  {
   "cell_type": "markdown",
   "metadata": {},
   "source": [
    "# User Defined Functions"
   ]
  },
  {
   "cell_type": "code",
   "execution_count": 17,
   "metadata": {},
   "outputs": [
    {
     "name": "stdout",
     "output_type": "stream",
     "text": [
      "Enter your city: Chennai\n",
      "Welcome to Chennai\n"
     ]
    }
   ],
   "source": [
    "def greet():\n",
    "    message=input(\"Enter your city: \")\n",
    "    print(\"Welcome to \" +message)\n",
    "\n",
    "greet()"
   ]
  },
  {
   "cell_type": "markdown",
   "metadata": {},
   "source": [
    "# String"
   ]
  },
  {
   "cell_type": "code",
   "execution_count": 24,
   "metadata": {},
   "outputs": [
    {
     "name": "stdout",
     "output_type": "stream",
     "text": [
      "A\n",
      "d\n",
      "e\n",
      "False\n"
     ]
    }
   ],
   "source": [
    "name=\"Ahamed\"\n",
    "print(name[0])\n",
    "print(name[5])\n",
    "print(name[-2])\n",
    "print(name[0]==name[2])"
   ]
  },
  {
   "cell_type": "code",
   "execution_count": 32,
   "metadata": {},
   "outputs": [
    {
     "name": "stdout",
     "output_type": "stream",
     "text": [
      "Ba\n",
      "ana\n",
      "nan\n",
      "Banan\n"
     ]
    }
   ],
   "source": [
    "#slicing\n",
    "fruit=\"Banana\"\n",
    "print(fruit[0:2])\n",
    "print(fruit[3:6])\n",
    "print(fruit[-4:-1])\n",
    "print(fruit[-6:-1])"
   ]
  },
  {
   "cell_type": "markdown",
   "metadata": {},
   "source": [
    "# List"
   ]
  },
  {
   "cell_type": "code",
   "execution_count": 40,
   "metadata": {},
   "outputs": [
    {
     "name": "stdout",
     "output_type": "stream",
     "text": [
      "[1, 5, 6, 8, 9]\n",
      "1\n",
      "5 8\n",
      "[5, 6, 8]\n",
      "[1, 5, 6]\n"
     ]
    }
   ],
   "source": [
    "list=[1,5,6,8,9]\n",
    "print(list)\n",
    "print(list[0])\n",
    "print(list[1],list[3])\n",
    "print(list[1:4])\n",
    "print(list[0:3])"
   ]
  },
  {
   "cell_type": "markdown",
   "metadata": {},
   "source": [
    "# Tuple"
   ]
  },
  {
   "cell_type": "code",
   "execution_count": 41,
   "metadata": {},
   "outputs": [
    {
     "name": "stdout",
     "output_type": "stream",
     "text": [
      "(1, 5, 6, 8, 9)\n",
      "1\n",
      "5 8\n",
      "(5, 6, 8)\n",
      "(1, 5, 6)\n"
     ]
    }
   ],
   "source": [
    "tup=(1,5,6,8,9)\n",
    "print(tup)\n",
    "print(tup[0])\n",
    "print(tup[1],list[3])\n",
    "print(tup[1:4])\n",
    "print(tup[0:3])"
   ]
  },
  {
   "cell_type": "markdown",
   "metadata": {},
   "source": [
    "# Difference Between List & Tuple"
   ]
  },
  {
   "cell_type": "code",
   "execution_count": 46,
   "metadata": {},
   "outputs": [
    {
     "name": "stdout",
     "output_type": "stream",
     "text": [
      "['Onion', 'Tomato', 'Carrot']\n",
      "Tomato\n",
      "['Onion', 'Brinjal', 'Carrot']\n"
     ]
    }
   ],
   "source": [
    "#Lists are mutable but tuples are immutable\n",
    "vegetables=[\"Onion\",\"Tomato\",\"Carrot\"]\n",
    "print(vegetables)\n",
    "print(vegetables[1])\n",
    "vegetables[1]=\"Brinjal\"   #index string can be inserted or replaced, but is not possible in tuple.\n",
    "print(vegetables)"
   ]
  },
  {
   "cell_type": "markdown",
   "metadata": {},
   "source": [
    "# Set"
   ]
  },
  {
   "cell_type": "code",
   "execution_count": 48,
   "metadata": {},
   "outputs": [
    {
     "name": "stdout",
     "output_type": "stream",
     "text": [
      "{1, 3, 5, 6, 8, 9, 'Two', 'Four'}\n"
     ]
    }
   ],
   "source": [
    "#sets are unordered and unindexed\n",
    "s={1,\"Two\",3,\"Four\",5,8,3,6,9}\n",
    "print(s)"
   ]
  },
  {
   "cell_type": "markdown",
   "metadata": {},
   "source": [
    "# Dictionaries"
   ]
  },
  {
   "cell_type": "code",
   "execution_count": 53,
   "metadata": {},
   "outputs": [
    {
     "name": "stdout",
     "output_type": "stream",
     "text": [
      "<class 'dict'>\n",
      "Chess\n",
      "Football\n"
     ]
    }
   ],
   "source": [
    "sports={\"indoor\":\"Chess\",\"outdoor\":\"Football\"}\n",
    "print(type(sports))\n",
    "print(sports[\"indoor\"])\n",
    "print(sports[\"outdoor\"])"
   ]
  },
  {
   "cell_type": "code",
   "execution_count": null,
   "metadata": {},
   "outputs": [],
   "source": []
  }
 ],
 "metadata": {
  "kernelspec": {
   "display_name": "Python 3",
   "language": "python",
   "name": "python3"
  },
  "language_info": {
   "codemirror_mode": {
    "name": "ipython",
    "version": 3
   },
   "file_extension": ".py",
   "mimetype": "text/x-python",
   "name": "python",
   "nbconvert_exporter": "python",
   "pygments_lexer": "ipython3",
   "version": "3.8.3"
  }
 },
 "nbformat": 4,
 "nbformat_minor": 4
}
